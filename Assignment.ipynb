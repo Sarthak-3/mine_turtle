{
    "cells": [
        {
            "cell_type": "markdown",
            "metadata": {
                "collapsed": true
            },
            "source": "# My Jupyter Notebook on IBM Watson Studio"
        },
        {
            "cell_type": "markdown",
            "metadata": {},
            "source": "__Sarthak Srivastava__\n\nMy current desired occupation would be working with a healthcare industry as a data scientist. "
        },
        {
            "cell_type": "markdown",
            "metadata": {},
            "source": "_I am interested in data science because I have always been curious as a kid. Curios to know the answers to the question 'Why?'. And I have come to learn that this is one of the key feature that a data scientist must possess. I also have an intriguing intrest in maths and would love to channel my knowledge towards a stream I have always been passionate about!_"
        },
        {
            "cell_type": "markdown",
            "metadata": {},
            "source": "### In the cell below, I will be concatenating two strings and basically printing the first words that we type in a programming language, \"Hello World!\""
        },
        {
            "cell_type": "code",
            "execution_count": 1,
            "metadata": {},
            "outputs": [
                {
                    "name": "stdout",
                    "output_type": "stream",
                    "text": "Hello World!\n"
                }
            ],
            "source": "a = 'Hello'\nb = \"World!\"\nprint(a + \" \" + b)"
        },
        {
            "cell_type": "markdown",
            "metadata": {},
            "source": "1. The first word, just like a baby, that a programmer learns are ~~Hello Pokemon!~~ Hello World!\n\n2. [Here is a link to google!](https://www.google.co.in/?gws_rd=cr&ei=pU9dUqzJI8nDrAff5YCIAw)\n\n3. Here is a picture of a cat!\n   Cat: \n   ![alt text][logo]\n   \n   [logo]: https://static.toiimg.com/photo/msid-67586673/67586673.jpg?resizemode=4&width=400 \"Cat in the house!\"\n   \n4. \n```python\ns = \"Hello World are the words!\"\nprint```\n\n5. > And this is how block quotes are written!\n   > They can be used to highlight certain sentences. "
        },
        {
            "cell_type": "code",
            "execution_count": null,
            "metadata": {},
            "outputs": [],
            "source": ""
        }
    ],
    "metadata": {
        "kernelspec": {
            "display_name": "Python 3.6",
            "language": "python",
            "name": "python3"
        },
        "language_info": {
            "codemirror_mode": {
                "name": "ipython",
                "version": 3
            },
            "file_extension": ".py",
            "mimetype": "text/x-python",
            "name": "python",
            "nbconvert_exporter": "python",
            "pygments_lexer": "ipython3",
            "version": "3.6.9"
        }
    },
    "nbformat": 4,
    "nbformat_minor": 1
}